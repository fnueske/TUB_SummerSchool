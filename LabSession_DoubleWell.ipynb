{
 "cells": [
  {
   "cell_type": "code",
   "execution_count": null,
   "metadata": {},
   "outputs": [],
   "source": [
    "import numpy as np\n",
    "import matplotlib.pyplot as plt\n",
    "%matplotlib inline\n",
    "import scipy.linalg as scl\n",
    "\n",
    "from msmtools.analysis.dense.pcca import _pcca_connected_isa"
   ]
  },
  {
   "cell_type": "markdown",
   "metadata": {},
   "source": [
    "In this notebook, we will apply EDMD to analyze a diffusion in a two-well potential\n",
    "$$ \\mathrm{d}X_t = - V'(X_t) \\mathrm{d}t + \\sqrt{2D} \\mathrm{d}W_t $$\n",
    "$$ V(x) = (x^2 - 1)^2. $$"
   ]
  },
  {
   "cell_type": "markdown",
   "metadata": {},
   "source": [
    "### Simulation and Evolution of Densities\n",
    "Let's repeat what we did for the previous example: we set up the numerical integrator, and then have a look at the evolution of probability distributions with time."
   ]
  },
  {
   "cell_type": "code",
   "execution_count": null,
   "metadata": {},
   "outputs": [],
   "source": [
    "# This function realizes the standard Euler scheme\n",
    "# for a stochastic differential equation in 1d:\n",
    "def Euler_Scheme(x0, b, sigma, dt, ntraj, m):\n",
    "    # Prepare output:\n",
    "    y = np.zeros((ntraj, m))\n",
    "    y[:, 0] = x0\n",
    "    # Initialize at x0:\n",
    "    x = x0\n",
    "    # Integrate:\n",
    "    for kk in range(1, m):\n",
    "        # Update:\n",
    "        xn = x + dt * b(x) + sigma(x) * np.sqrt(dt)* np.random.randn(ntraj)\n",
    "        # Update current state:\n",
    "        y[:, kk] = xn\n",
    "        x = xn\n",
    "    return y"
   ]
  },
  {
   "cell_type": "code",
   "execution_count": null,
   "metadata": {},
   "outputs": [],
   "source": [
    "D = 0.5\n",
    "# Drift\n",
    "def _b(x):\n",
    "    return -2*(x**2 - 1.0) * 2*x\n",
    "\n",
    "# Diffusion:\n",
    "def _sigma(x):\n",
    "    return np.sqrt(2*D)"
   ]
  },
  {
   "cell_type": "markdown",
   "metadata": {},
   "source": [
    "Use the above function to produce 1000 simulations, each comprising discrete 50000 steps, at integration time step 1e-3, starting from $x_0 = -1.0$. Produce a histogram of the data after $[1, 10, 100, 1000, 10000, 50000]$ steps."
   ]
  },
  {
   "cell_type": "code",
   "execution_count": null,
   "metadata": {},
   "outputs": [],
   "source": [
    "# Settings:\n",
    "m = 50000\n",
    "dt = 1e-3\n",
    "ntraj = 1000\n",
    "\n",
    "# Generate data:\n",
    "x0 = -1.0\n",
    "X = Euler_Scheme(x0, _b, _sigma, dt, ntraj, m)"
   ]
  },
  {
   "cell_type": "code",
   "execution_count": null,
   "metadata": {},
   "outputs": [],
   "source": [
    "# Time instances to be used for histogramming:\n",
    "t_vec = np.array([1, 10, 100, 1000, 10000, 50000])\n",
    "# Bins for histogram:\n",
    "xe = np.arange(-2.5, 2.51, 0.1)\n",
    "xc = 0.5 * (xe[1:] + xe[:-1])\n",
    "\n",
    "# Histogram the data at different time instances:\n",
    "plt.figure()\n",
    "\n",
    "qq = 0\n",
    "for t in t_vec:\n",
    "    h, _ = np.histogram(X[:, t-1], bins=xe, density=True)\n",
    "    plt.plot(xc, h, \"o-\", linewidth=2.5, label=\"t = %.2f\"%(dt * (t)))\n",
    "\n",
    "plt.xlabel(\"x\", fontsize=12)\n",
    "plt.tick_params(labelsize=12)\n",
    "plt.legend(loc=2)\n",
    "plt.title(\"Time Evolution of Distribution\")"
   ]
  },
  {
   "cell_type": "code",
   "execution_count": null,
   "metadata": {},
   "outputs": [],
   "source": [
    "plt.plot(X[0, :])"
   ]
  },
  {
   "cell_type": "markdown",
   "metadata": {},
   "source": [
    "### Estimating the Koopman Operator"
   ]
  },
  {
   "cell_type": "code",
   "execution_count": null,
   "metadata": {},
   "outputs": [],
   "source": [
    "# Whitening transformation of the Koopman matrix to orthonormal basis:\n",
    "def _compute_UL(G, A, tol):\n",
    "    U = _transform_ortho(G, tol)\n",
    "    L = np.dot(U.T, np.dot(A, U))\n",
    "    return U, L\n",
    "    \n",
    "# Function to compute truncated eigendecomposition of G:\n",
    "def _transform_ortho(G, tol):\n",
    "    # Eigenvalue decomposition:\n",
    "    s, U = scl.eigh(G)\n",
    "    # Sort in decreasing order\n",
    "    s = s[::-1]\n",
    "    U = U[:, ::-1]\n",
    "    # Elminate small singular values:\n",
    "    ind = np.where(s / s[0] >= tol)[0]\n",
    "    s = s[ind]\n",
    "    U = U[:, ind]\n",
    "    # Return transformation matrix:\n",
    "    return np.dot(U, np.diag(s ** (-0.5)))"
   ]
  },
  {
   "cell_type": "code",
   "execution_count": null,
   "metadata": {},
   "outputs": [],
   "source": [
    "# Compute reduced Koopman matrix using whitening transformation:\n",
    "def koopman_matrix_reduced(X, Y, psi, tol=1e-10):\n",
    "    # Evaluate basis set on full data:\n",
    "    PX = psi(X)\n",
    "    PY = psi(Y)\n",
    "    # Compute Koopman matrix:\n",
    "    G = np.dot(PX, PX.T)\n",
    "    A = np.dot(PX, PY.T)\n",
    "    L, K = _compute_UL(G, A, tol)\n",
    "    return L, K"
   ]
  },
  {
   "cell_type": "markdown",
   "metadata": {},
   "source": [
    "Produce a long simulation of $200000$ time steps at elementary integration time step $dt = 10^{-3}$.\n",
    "\n",
    "Then, estimate the Koopman matrix at lag time $\\tau = 0.05$ for a Gaussian basis with equidistant centers in $[-1.2, 1.2]$, with bandwidth $0.5$"
   ]
  },
  {
   "cell_type": "code",
   "execution_count": null,
   "metadata": {},
   "outputs": [],
   "source": [
    "# Produce the data:\n",
    "m = \n",
    "ntraj = \n",
    "x0 = np.array([1.0])\n",
    "\n",
    "X = "
   ]
  },
  {
   "cell_type": "code",
   "execution_count": null,
   "metadata": {},
   "outputs": [],
   "source": [
    "# Define basis set:\n",
    "# List of mean values\n",
    "mu_vec = np.arange(-1.2, 1.21, 0.2)\n",
    "n = mu_vec.shape[0]\n",
    "# Bandwidth of the Gaussians:\n",
    "sig_psi = 0.5\n",
    "\n",
    "\n",
    "def _psi(x):\n",
    "    \n",
    "    return px"
   ]
  },
  {
   "cell_type": "code",
   "execution_count": null,
   "metadata": {},
   "outputs": [],
   "source": [
    "# Set the time window (integer units):\n",
    "tau = 50\n",
    "# Truncation parameter:\n",
    "tol = 1e-6\n",
    "\n",
    "# Compute Koopman matrix:\n"
   ]
  },
  {
   "cell_type": "markdown",
   "metadata": {},
   "source": [
    "Compute the first few eigenvalues of the Koopman matrix and plot them. Also,infer the implied relaxation timescales from the eigenvalues of your Koopman matrix. These are defined as\n",
    "$$ t_k = -\\frac{t}{\\log(\\lambda_k(t))}$$"
   ]
  },
  {
   "cell_type": "code",
   "execution_count": null,
   "metadata": {},
   "outputs": [],
   "source": [
    "# Diagonalize K:\n",
    "\n",
    "# Sort eigenvalues and eigenvectors in decreasing orderL\n",
    "\n",
    "# Plot eigenvalues:\n",
    "\n",
    "\n",
    "# Determine timescales:\n",
    "its = \n",
    "print(\"Implied timescales: \")\n",
    "print(its)"
   ]
  },
  {
   "cell_type": "markdown",
   "metadata": {},
   "source": [
    "### Finding Structure based on the Koopman matrix"
   ]
  },
  {
   "cell_type": "markdown",
   "metadata": {},
   "source": [
    "We will now use the Koopman matrix to identify long-lived parts of the state space. "
   ]
  },
  {
   "cell_type": "code",
   "execution_count": null,
   "metadata": {},
   "outputs": [],
   "source": [
    "# Evaluate the first two eigenfunctions on a grid:\n",
    "xp = np.arange(-1.5, 1.51, 0.05)\n",
    "PX = _psi(xp)\n",
    "VX = np.dot(V[:, :2].T, np.dot(L.T, PX))\n",
    "VX[0, :] = np.mean(VX[0, :])"
   ]
  },
  {
   "cell_type": "code",
   "execution_count": null,
   "metadata": {},
   "outputs": [],
   "source": [
    "# Apply PCCA:\n",
    "chi, A = _pcca_connected_isa(VX.T, n_clusters=2)"
   ]
  },
  {
   "cell_type": "code",
   "execution_count": null,
   "metadata": {},
   "outputs": [],
   "source": [
    "# Evaluate membership functions on a grid:\n",
    "chi_p = np.dot(A.T, VX)\n",
    "for k in range(2):\n",
    "    plt.plot(xp, chi_p[k, :], linewidth=2.5, label=\"State %d\"%k)\n",
    "plt.legend(loc=1)\n",
    "plt.xlabel(\"x\")\n",
    "plt.title(\"Memberships for Macrostates\")"
   ]
  },
  {
   "cell_type": "code",
   "execution_count": null,
   "metadata": {},
   "outputs": [],
   "source": []
  },
  {
   "cell_type": "code",
   "execution_count": null,
   "metadata": {},
   "outputs": [],
   "source": []
  },
  {
   "cell_type": "code",
   "execution_count": null,
   "metadata": {},
   "outputs": [],
   "source": []
  },
  {
   "cell_type": "code",
   "execution_count": null,
   "metadata": {},
   "outputs": [],
   "source": []
  }
 ],
 "metadata": {
  "kernelspec": {
   "display_name": "Python 3",
   "language": "python",
   "name": "python3"
  },
  "language_info": {
   "codemirror_mode": {
    "name": "ipython",
    "version": 3
   },
   "file_extension": ".py",
   "mimetype": "text/x-python",
   "name": "python",
   "nbconvert_exporter": "python",
   "pygments_lexer": "ipython3",
   "version": "3.7.3"
  }
 },
 "nbformat": 4,
 "nbformat_minor": 2
}
