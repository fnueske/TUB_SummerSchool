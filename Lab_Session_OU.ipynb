{
 "cells": [
  {
   "cell_type": "code",
   "execution_count": null,
   "metadata": {},
   "outputs": [],
   "source": [
    "import numpy as np\n",
    "import matplotlib.pyplot as plt\n",
    "%matplotlib inline\n",
    "import scipy.linalg as scl\n",
    "from scipy.integrate import odeint"
   ]
  },
  {
   "cell_type": "markdown",
   "metadata": {},
   "source": [
    "### Simulation Routine\n",
    "We set up a simple numerical integrator for 1d SDEs (first order Euler scheme)"
   ]
  },
  {
   "cell_type": "code",
   "execution_count": null,
   "metadata": {},
   "outputs": [],
   "source": [
    "# This function realizes the standard Euler scheme\n",
    "# for a stochastic differential equation in 1d:\n",
    "def Euler_Scheme(x0, b, sigma, dt, ntraj, m):\n",
    "    # Prepare output:\n",
    "    y = np.zeros((ntraj, m))\n",
    "    y[:, 0] = x0\n",
    "    # Initialize at x0:\n",
    "    x = x0\n",
    "    # Integrate:\n",
    "    for kk in range(1, m):\n",
    "        # Update:\n",
    "        xn = x + dt * b(x) + sigma(x) * np.sqrt(dt)* np.random.randn(ntraj)\n",
    "        # Update current state:\n",
    "        y[:, kk] = xn\n",
    "        x = xn\n",
    "    return y"
   ]
  },
  {
   "cell_type": "markdown",
   "metadata": {},
   "source": [
    "### Definition of Linear SDE\n",
    "Define callable functions for drift and diffusion of linear SDE in 1d"
   ]
  },
  {
   "cell_type": "code",
   "execution_count": null,
   "metadata": {},
   "outputs": [],
   "source": [
    "# Drift\n",
    "def _b(x):\n",
    "    return -x\n",
    "# Diffusion:\n",
    "def _sigma(x):\n",
    "    return np.sqrt(2)"
   ]
  },
  {
   "cell_type": "markdown",
   "metadata": {},
   "source": [
    "### Evolution of Densities:"
   ]
  },
  {
   "cell_type": "markdown",
   "metadata": {},
   "source": [
    "First, use the above function to produce 1000 simulations, each comprising discrete 1000 steps, at integration time step 1e-3, starting at $x_0 = 2$. Produce a histogram of the data after [10, 20, 50, 100, 200, 500] steps.\n",
    "Then, repeat the experiment, but draw the initial condition from a standard normal distribution."
   ]
  },
  {
   "cell_type": "code",
   "execution_count": null,
   "metadata": {},
   "outputs": [],
   "source": [
    "# Settings:\n",
    "m = 1000\n",
    "dt = 1e-2\n",
    "ntraj = 10000\n",
    "\n",
    "# Initial conditions:\n",
    "x0 = 2.0 * np.ones(ntraj)\n",
    "X = Euler_Scheme(x0, _b, _sigma, dt, ntraj, m)"
   ]
  },
  {
   "cell_type": "code",
   "execution_count": null,
   "metadata": {},
   "outputs": [],
   "source": [
    "# Time instances to be used for histogramming:\n",
    "t_vec = np.array([10, 20, 50, 100, 200, 500])\n",
    "# Bins for histogram:\n",
    "xe = np.arange(-3.5, 3.51, 0.1)\n",
    "xc = 0.5 * (xe[1:] + xe[:-1])\n",
    "\n",
    "# Histogram the data at different time instances:\n",
    "plt.figure()\n",
    "\n",
    "qq = 0\n",
    "for t in t_vec:\n",
    "    h, _ = np.histogram(X[:, t-1], bins=xe, density=True)\n",
    "    plt.plot(xc, h, \"--\", linewidth=2.5, label=\"t = %.2f\"%(dt * (t)))\n",
    "plt.plot(xc, (1.0/np.sqrt(2*np.pi))*np.exp(-0.5 * xc**2), \"k--\")\n",
    "plt.xlabel(\"x\", fontsize=12)\n",
    "plt.tick_params(labelsize=12)\n",
    "plt.ylim([-.5, 1.5])\n",
    "plt.legend(loc=2)"
   ]
  },
  {
   "cell_type": "markdown",
   "metadata": {},
   "source": [
    "### Estimating the Koopman Operator"
   ]
  },
  {
   "cell_type": "markdown",
   "metadata": {},
   "source": [
    "First, write a function to compute a matrix approximation for the Koopman operator. Inputs should be the raw data, the time shifted raw data, a callable function to realize the basis set:"
   ]
  },
  {
   "cell_type": "code",
   "execution_count": null,
   "metadata": {},
   "outputs": [],
   "source": [
    "def koopman_matrix(X, Y, psi):\n",
    "    \n",
    "    return K"
   ]
  },
  {
   "cell_type": "markdown",
   "metadata": {},
   "source": [
    "Produce 20,000 pairs $(x_l, y_l)$ by drawing $x_l$ from the invariant measure of our linear SDE. Compute each $y_l$ by running the dynamics over time $t = 0.1$ (10 discrete time steps)."
   ]
  },
  {
   "cell_type": "code",
   "execution_count": null,
   "metadata": {},
   "outputs": [],
   "source": [
    "# Produce the data:\n",
    "ntraj = 20000\n",
    "m = 10\n",
    "\n",
    "X = \n",
    "Y = "
   ]
  },
  {
   "cell_type": "markdown",
   "metadata": {},
   "source": [
    "Then, estimate the Koopman matrix for the monomial basis of degree 5."
   ]
  },
  {
   "cell_type": "code",
   "execution_count": null,
   "metadata": {},
   "outputs": [],
   "source": [
    "# Define basis set:\n",
    "n = 5\n",
    "def _psi(x):\n",
    "    \n",
    "\n",
    "# Compute Koopman matrix:\n",
    "K = koopman_matrix(X, Y, _psi)"
   ]
  },
  {
   "cell_type": "markdown",
   "metadata": {},
   "source": [
    "### Prediction\n",
    "Use the Koopman matrix to predict the variance of the process at times $[0.1, 0.2, 0.3, ..., 5.0]$, if started at $x$, as a function of $x$. The variance is\n",
    "$\\mathbb{E}^x[(X_t)^2]$, which equals the Koopman operator applied to the function $x^2$. Remember this function is contained in your basis set."
   ]
  },
  {
   "cell_type": "code",
   "execution_count": null,
   "metadata": {},
   "outputs": [],
   "source": [
    "# Array of time instances:\n",
    "lags = np.arange(1, 51, 1)\n",
    "# Coefficient vector of x**2 with respect to monomial basis:\n",
    "\n",
    "\n",
    "# Prepare output:\n",
    "lag_coeffs = np.zeros((n, lags.shape[0]))\n",
    "# Repeatedly apply Koopman matrix to coefficient vector:\n",
    "for ii in range(lags.shape[0]):\n",
    "\n",
    "\n",
    "# Plot coefficients of the variance as a function of t:\n",
    "for ii in range(n):\n",
    "    plt.plot(dt * m * lags, lag_coeffs[ii, :], \"o--\", label=r\"$x^{%d}$\"%ii)\n",
    "\n",
    "plt.plot(dt * m * lags, np.exp(-2* dt * m * lags), \"k--\", linewidth=2)\n",
    "plt.plot(dt * m * lags, (1 - np.exp(-2* dt * m * lags)), \"k--\", linewidth=2)\n",
    "plt.ylim([-0.1, 1.1])\n",
    "plt.legend(loc=1)"
   ]
  },
  {
   "cell_type": "markdown",
   "metadata": {},
   "source": [
    "### Prediction 2\n",
    "Let's add a control input to the above OU process, which allows to shift the mean value of the process. We will then use two Koopman models, learned at constant control inputs, to predict the system behaviour via the bi-linear ODE."
   ]
  },
  {
   "cell_type": "markdown",
   "metadata": {},
   "source": [
    "The controlled OU process is given by the SDE:\n",
    "$$ dX_t = -(X_t - u(t)) dt + \\sqrt{2}dB_t $$"
   ]
  },
  {
   "cell_type": "code",
   "execution_count": null,
   "metadata": {},
   "outputs": [],
   "source": [
    "# Adapt SDE integrator to accept time-dependent control input:\n",
    "def Euler_Scheme_U(x0, u, dt, ntraj, m):\n",
    "    # Prepare output:\n",
    "    y = np.zeros((ntraj, m))\n",
    "    y[:, 0] = x0\n",
    "    # Initialize at x0:\n",
    "    x = x0\n",
    "    # Integrate:\n",
    "    for kk in range(1, m):\n",
    "        # Update:\n",
    "        xn = x - dt * (x - u[kk-1]) + np.sqrt(2) * np.sqrt(dt)* np.random.randn(ntraj)\n",
    "        # Update current state:\n",
    "        y[:, kk] = xn\n",
    "        x = xn\n",
    "    return y"
   ]
  },
  {
   "cell_type": "code",
   "execution_count": null,
   "metadata": {},
   "outputs": [],
   "source": [
    "# Function for derivatives of the basis set:\n",
    "def _Lpsi(x, u):\n",
    "    m = x.shape[0]\n",
    "    dpx = np.zeros((n, m))\n",
    "    for ll in range(1, n):\n",
    "        dpx[ll, :] = -(x - u) * ll * x**(ll-1) + ll * (ll - 1) * x**(ll-2)\n",
    "    return dpx"
   ]
  },
  {
   "cell_type": "code",
   "execution_count": null,
   "metadata": {},
   "outputs": [],
   "source": [
    "# Choose two control values:\n",
    "U = np.array([0.0, 1.0])\n",
    "nu = U.shape[0]\n",
    "# Data size for each Koopman model:\n",
    "ntraj = 20000"
   ]
  },
  {
   "cell_type": "code",
   "execution_count": null,
   "metadata": {},
   "outputs": [],
   "source": [
    "# Learn Koopman models for each constant control:\n",
    "L_array = []\n",
    "for ii in range(nu):\n",
    "    X = np.random.randn(ntraj) + U[ii]\n",
    "    # Evaluate the basis set:\n",
    "    PX = _psi(X)\n",
    "    # Evaluate the derivatives of the basis set:\n",
    "    dPX = _Lpsi(X, U[ii])\n",
    "    # Compute generator matrix:\n",
    "    Li = np.dot(scl.pinv(np.dot(PX, PX.T)), np.dot(PX, dPX.T))\n",
    "    L_array.append(Li.copy())"
   ]
  },
  {
   "cell_type": "code",
   "execution_count": null,
   "metadata": {},
   "outputs": [],
   "source": [
    "# Choose sinusoidal control input:\n",
    "Tmax = 10\n",
    "t_vec = np.arange(0, Tmax, dt)"
   ]
  },
  {
   "cell_type": "code",
   "execution_count": null,
   "metadata": {},
   "outputs": [],
   "source": [
    "# Right-hand side for integration of bi-linear ODE:\n",
    "def _uref(t):\n",
    "    return np.cos(2*np.pi*t)\n",
    "\n",
    "def _rhs(t, z):\n",
    "    return (1 - _uref(t)) * np.dot(L_array[0].T, z) + _uref(t)*np.dot(L_array[1].T, z)"
   ]
  },
  {
   "cell_type": "code",
   "execution_count": null,
   "metadata": {},
   "outputs": [],
   "source": [
    "x0 = np.array([1.0])\n",
    "z0 = _psi(x0)[:, 0]\n",
    "# Integrate bi-linear ODE:\n",
    "Z = odeint(_rhs, z0, t_vec, tfirst=True)\n",
    "\n",
    "# Generate data:\n",
    "#Y = Euler_Scheme_U(x0*np.ones(ntraj), _uref(t_vec), dt, ntraj, int(Tmax/dt))\n",
    "Y = Euler_Scheme_U(x0*np.ones(ntraj), _uref(t_vec)*np.ones(int(Tmax/dt)), dt, ntraj, int(Tmax/dt))"
   ]
  },
  {
   "cell_type": "code",
   "execution_count": null,
   "metadata": {},
   "outputs": [],
   "source": [
    "plt.plot(t_vec, Z[:, 1])\n",
    "plt.plot(t_vec, np.mean(Y, axis=0))"
   ]
  },
  {
   "cell_type": "code",
   "execution_count": null,
   "metadata": {},
   "outputs": [],
   "source": []
  },
  {
   "cell_type": "code",
   "execution_count": null,
   "metadata": {},
   "outputs": [],
   "source": []
  }
 ],
 "metadata": {
  "kernelspec": {
   "display_name": "Python 3",
   "language": "python",
   "name": "python3"
  },
  "language_info": {
   "codemirror_mode": {
    "name": "ipython",
    "version": 3
   },
   "file_extension": ".py",
   "mimetype": "text/x-python",
   "name": "python",
   "nbconvert_exporter": "python",
   "pygments_lexer": "ipython3",
   "version": "3.7.3"
  }
 },
 "nbformat": 4,
 "nbformat_minor": 2
}
